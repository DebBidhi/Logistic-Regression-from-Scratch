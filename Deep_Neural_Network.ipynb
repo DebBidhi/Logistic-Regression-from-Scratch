{
  "nbformat": 4,
  "nbformat_minor": 0,
  "metadata": {
    "colab": {
      "provenance": [],
      "authorship_tag": "ABX9TyNoiuHf8nd529ODVC1By5p9"
    },
    "kernelspec": {
      "name": "python3",
      "display_name": "Python 3"
    },
    "language_info": {
      "name": "python"
    }
  },
  "cells": [
    {
      "cell_type": "code",
      "execution_count": null,
      "metadata": {
        "id": "ITxcndJKFoNG"
      },
      "outputs": [],
      "source": [
        "import numpy as np\n",
        "import h5py\n",
        "import matplotlib.pyplot as plt"
      ]
    },
    {
      "cell_type": "code",
      "source": [
        "def initialize_parameters_deep(layer_dims):\n",
        "    \"\"\"\n",
        "    Initialize parameters for a deep neural network\n",
        "    \"\"\"\n",
        "    np.random.seed(1)\n",
        "    parameters = {}\n",
        "    L = len(layer_dims)\n",
        "\n",
        "    for l in range(1, L):\n",
        "        parameters['W' + str(l)] = np.random.randn(layer_dims[l], layer_dims[l-1]) * np.sqrt(2./layer_dims[l-1])\n",
        "        parameters['b' + str(l)] = np.zeros((layer_dims[l], 1))\n",
        "\n",
        "        # print(f\"Initialization - Layer {l}:\")\n",
        "        # print(f\"W{l} shape: {parameters['W' + str(l)].shape}\")\n",
        "        # print(f\"b{l} shape: {parameters['b' + str(l)].shape}\")\n",
        "\n",
        "        assert(parameters['W' + str(l)].shape == (layer_dims[l], layer_dims[l-1]))\n",
        "        assert(parameters['b' + str(l)].shape == (layer_dims[l], 1))\n",
        "\n",
        "    return parameters"
      ],
      "metadata": {
        "id": "jjlHzZhWGOsF"
      },
      "execution_count": null,
      "outputs": []
    },
    {
      "cell_type": "code",
      "source": [
        "def linear_forward(A, W, b):\n",
        "    \"\"\"\n",
        "    Implement forward propagation for a linear layer\n",
        "\n",
        "    Arguments:\n",
        "    A -- activations from previous layer (or input data): (size of previous layer, number of examples)\n",
        "    W -- weights matrix: numpy array of shape (size of current layer, size of previous layer)\n",
        "    b -- bias vector, numpy array of shape (size of the current layer, 1)\n",
        "\n",
        "    Returns:\n",
        "    Z -- the input of the activation function\n",
        "    cache -- a python tuple containing \"A\", \"W\" and \"b\" for computing backward pass efficiently\n",
        "    \"\"\"\n",
        "    # Print shapes for debugging\n",
        "    # print(f\"Forward pass shapes:\")\n",
        "    # print(f\"A shape: {A.shape}\")\n",
        "    # print(f\"W shape: {W.shape}\")\n",
        "    # print(f\"b shape: {b.shape}\")\n",
        "\n",
        "    # Compute Z = WA + b while ensuring proper broadcasting\n",
        "    Z = np.dot(W, A) + b\n",
        "\n",
        "    assert(Z.shape == (W.shape[0], A.shape[1]))\n",
        "    cache = (A, W, b)\n",
        "\n",
        "    return Z, cache"
      ],
      "metadata": {
        "id": "zwr82MODF8-7"
      },
      "execution_count": null,
      "outputs": []
    },
    {
      "cell_type": "code",
      "source": [
        "def sigmoid(Z):\n",
        "    \"\"\"\n",
        "    Arguments:\n",
        "    Z -- Output of the linear layer, of any shape\n",
        "\n",
        "    Returns:\n",
        "    A -- output of sigmoid(z), same shape as Z\n",
        "    cache -- returns Z as well, useful during backpropagation\n",
        "    \"\"\"\n",
        "\n",
        "    A = 1/(1+np.exp(-Z))\n",
        "    cache = Z\n",
        "\n",
        "    return A, cache\n",
        "\n",
        "def relu(Z):\n",
        "  \"\"\"\n",
        "  Arguments:\n",
        "  Z -- Output of the linear layer, of any shape\n",
        "\n",
        "  Returns:\n",
        "  A -- Post-activation parameter, of the same shape as Z\n",
        "  cache -- a python dictionary containing \"A\" ; stored for computing the backward pass efficiently\n",
        "  \"\"\"\n",
        "  A = np.maximum(0,Z)\n",
        "\n",
        "  assert(A.shape == Z.shape)\n",
        "\n",
        "  cache = Z\n",
        "\n",
        "  return A, cache"
      ],
      "metadata": {
        "id": "JbxEjzBeIz3h"
      },
      "execution_count": null,
      "outputs": []
    },
    {
      "cell_type": "code",
      "source": [
        "def linear_activation_forward(A_prev, W, b, activation):\n",
        "    \"\"\"\n",
        "    Arguments:\n",
        "    A_prev -- activations from previous layer (or input data): (size of previous layer, number of examples)\n",
        "    W -- weights matrix: numpy array of shape (size of current layer, size of previous layer)\n",
        "    b -- bias vector, numpy array of shape (size of the current layer, 1)\n",
        "    activation -- the activation to be used in this layer, stored as a text string: \"sigmoid\" or \"relu\"\n",
        "\n",
        "    Returns:\n",
        "    A -- the output of the activation function, also called the post-activation value\n",
        "    cache -- a python dictionary containing \"linear_cache\" and \"activation_cache\";\n",
        "             stored for computing the backward pass efficiently\n",
        "    \"\"\"\n",
        "\n",
        "    if activation == \"sigmoid\":\n",
        "        Z, linear_cache = linear_forward(A_prev, W, b)\n",
        "        A, activation_cache = sigmoid(Z)\n",
        "\n",
        "    elif activation == \"relu\":\n",
        "        Z, linear_cache = linear_forward(A_prev, W, b)\n",
        "        A, activation_cache = relu(Z)\n",
        "\n",
        "    assert (A.shape == (W.shape[0], A_prev.shape[1]))\n",
        "    cache = (linear_cache, activation_cache)\n",
        "\n",
        "    return A, cache"
      ],
      "metadata": {
        "id": "NXvMMsRhHvD2"
      },
      "execution_count": null,
      "outputs": []
    },
    {
      "cell_type": "code",
      "source": [
        "def L_model_forward(X, parameters):\n",
        "    \"\"\"\n",
        "    Implement forward propagation for the [LINEAR->RELU]*(L-1)->LINEAR->SIGMOID computation.\n",
        "\n",
        "    Arguments:\n",
        "    X -- data, numpy array of shape (input size, number of examples)\n",
        "    parameters -- output of initialize_parameters_deep(), dictionary containing weights and biases\n",
        "\n",
        "    Returns:\n",
        "    AL -- last post-activation value (output layer)\n",
        "    caches -- list of caches for each layer's linear and activation operations\n",
        "    \"\"\"\n",
        "\n",
        "    if not parameters:  # Check if parameters is empty\n",
        "        raise ValueError(\"Parameters dictionary is empty. Please initialize the model properly.\")\n",
        "\n",
        "    caches = []\n",
        "    A = X\n",
        "    L = len(parameters) // 2  # Number of layers in the neural network\n",
        "\n",
        "    # Forward propagation through L-1 layers using ReLU activation\n",
        "    for l in range(1, L):\n",
        "        A_prev = A\n",
        "        W = parameters.get(f'W{l}')\n",
        "        b = parameters.get(f'b{l}')\n",
        "\n",
        "        if W is None or b is None:\n",
        "            raise ValueError(f\"Missing parameters for layer {l}: W{l}, b{l}\")\n",
        "\n",
        "        A, cache = linear_activation_forward(A_prev, W, b, activation='relu')\n",
        "        caches.append(cache)\n",
        "\n",
        "    # Forward propagation through the final layer using Sigmoid activation\n",
        "    W_final = parameters.get(f'W{L}')\n",
        "    b_final = parameters.get(f'b{L}')\n",
        "\n",
        "    if W_final is None or b_final is None:\n",
        "        raise ValueError(f\"Missing parameters for final layer {L}: W{L}, b{L}\")\n",
        "\n",
        "    AL, cache = linear_activation_forward(A, W_final, b_final, activation='sigmoid')\n",
        "    caches.append(cache)\n",
        "\n",
        "    # Debugging Information\n",
        "    # print(f\"Shape of AL: {AL.shape}\")\n",
        "    # print(f\"Expected shape of AL: {(1, X.shape[1])}\")\n",
        "\n",
        "    # Ensure AL has the correct shape (1, number of examples)\n",
        "    assert AL.shape == (1, X.shape[1]), f\"AL shape mismatch: got {AL.shape}, expected {(1, X.shape[1])}\"\n",
        "\n",
        "    return AL, caches\n"
      ],
      "metadata": {
        "id": "ieRmt_m-IqQq"
      },
      "execution_count": null,
      "outputs": []
    },
    {
      "cell_type": "code",
      "source": [
        "def compute_cost(AL, Y):\n",
        "    \"\"\"\n",
        "    Arguments:\n",
        "    AL -- probability vector corresponding to your label predictions, shape (1, number of examples)\n",
        "    Y -- true \"label\" vector (for example: containing 0 if non-cat, 1 if cat), shape (1, number of examples)\n",
        "\n",
        "    Returns:\n",
        "    cost -- cross-entropy cost\n",
        "    \"\"\"\n",
        "\n",
        "    m = Y.shape[1]\n",
        "\n",
        "    # Compute loss from aL and y.\n",
        "    cost = (-1 / m) * np.sum(np.multiply(Y, np.log(AL)) + np.multiply(1 - Y, np.log(1 - AL)))\n",
        "\n",
        "    cost = np.squeeze(cost)      # To make sure your cost's shape is what we expect (e.g. this turns [[17]] into 17).\n",
        "    assert(cost.shape == ())\n",
        "\n",
        "    return cost"
      ],
      "metadata": {
        "id": "qG9so6CJJJ7I"
      },
      "execution_count": null,
      "outputs": []
    },
    {
      "cell_type": "code",
      "source": [
        "def linear_backward(dZ, cache):\n",
        "    \"\"\"\n",
        "    Implements the linear portion of backward propagation for a single layer.\n",
        "\n",
        "    Arguments:\n",
        "    dZ -- Gradient of the cost with respect to the linear output (of current layer l)\n",
        "    cache -- tuple of values (A_prev, W, b) coming from the forward propagation in the current layer\n",
        "\n",
        "    Returns:\n",
        "    dA_prev -- Gradient of the cost with respect to the activation (of the previous layer l-1)\n",
        "    dW -- Gradient of the cost with respect to W (current layer l)\n",
        "    db -- Gradient of the cost with respect to b (current layer l)\n",
        "    \"\"\"\n",
        "    A_prev, W, b = cache\n",
        "    m = A_prev.shape[1]\n",
        "\n",
        "    # Compute gradients\n",
        "    dW = (1/m) * np.dot(dZ, A_prev.T)\n",
        "    db = (1/m) * np.sum(dZ, axis=1, keepdims=True)\n",
        "    dA_prev = np.dot(W.T, dZ)\n",
        "\n",
        "    # Print shapes for debugging\n",
        "    # print(f\"dW shape: {dW.shape}\")\n",
        "    # print(f\"db shape: {db.shape}\")\n",
        "    # print(f\"dA_prev shape: {dA_prev.shape}\")\n",
        "\n",
        "    assert(dA_prev.shape == A_prev.shape)\n",
        "    assert(dW.shape == W.shape)\n",
        "    assert(db.shape == b.shape)\n",
        "\n",
        "    return dA_prev, dW, db"
      ],
      "metadata": {
        "id": "UAXBcC_GJYVk"
      },
      "execution_count": null,
      "outputs": []
    },
    {
      "cell_type": "code",
      "source": [
        "def relu_backward(dA, cache):\n",
        "    \"\"\"\n",
        "    Arguments:\n",
        "    dA -- post-activation gradient, of any shape\n",
        "    cache -- 'Z' where we store for computing backward propagation efficiently\n",
        "\n",
        "    Returns:\n",
        "    dZ -- Gradient of the cost with respect to Z\n",
        "    \"\"\"\n",
        "    Z = cache\n",
        "    dZ = np.array(dA, copy=True)\n",
        "    dZ[Z <= 0] = 0\n",
        "\n",
        "    assert (dZ.shape == Z.shape)\n",
        "\n",
        "    return dZ\n",
        "\n",
        "def sigmoid_backward(dA, cache):\n",
        "    \"\"\"\n",
        "    Arguments:\n",
        "    dA -- post-activation gradient, of any shape\n",
        "    cache -- 'Z' where we store for computing backward propagation efficiently\n",
        "\n",
        "    Returns:\n",
        "    dZ -- Gradient of the cost with respect to Z\n",
        "    \"\"\"\n",
        "\n",
        "    Z =cache\n",
        "    dZ = dA * sigmoid(Z)[0] * (1 - sigmoid(Z)[0])\n",
        "\n",
        "    assert (dZ.shape == Z.shape)\n",
        "\n",
        "    return dZ"
      ],
      "metadata": {
        "id": "GA_TCbEHKTQN"
      },
      "execution_count": null,
      "outputs": []
    },
    {
      "cell_type": "code",
      "source": [
        "def linear_activation_backward(dA, cache, activation):\n",
        "    \"\"\"\n",
        "    Implement the backward propagation for the LINEAR->ACTIVATION layer.\n",
        "\n",
        "    Arguments:\n",
        "    dA -- post-activation gradient for current layer l\n",
        "    cache -- tuple of values (linear_cache, activation_cache) we store for computing backward propagation efficiently\n",
        "    activation -- the activation to be used in this layer, stored as a text string: \"sigmoid\" or \"relu\"\n",
        "\n",
        "    Returns:\n",
        "    dA_prev -- Gradient of the cost with respect to the activation (of the previous layer l-1), same shape as A_prev\n",
        "    dW -- Gradient of the cost with respect to W (current layer l), same shape as W\n",
        "    db -- Gradient of the cost with respect to b (current layer l), same shape as b\n",
        "    \"\"\"\n",
        "    linear_cache, activation_cache = cache\n",
        "\n",
        "    if activation == \"relu\":\n",
        "        dZ = relu_backward(dA, activation_cache)\n",
        "\n",
        "    elif activation == \"sigmoid\":\n",
        "        dZ = sigmoid_backward(dA, activation_cache)\n",
        "\n",
        "    # Shorten the code\n",
        "    dA_prev, dW, db = linear_backward(dZ, linear_cache)\n",
        "\n",
        "    return dA_prev, dW, db"
      ],
      "metadata": {
        "id": "fVHEtpdHJqfw"
      },
      "execution_count": null,
      "outputs": []
    },
    {
      "cell_type": "code",
      "source": [
        "import numpy as np\n",
        "\n",
        "def L_model_backward(AL, Y, caches):\n",
        "    \"\"\"\n",
        "    Implement the backward propagation for the [LINEAR->RELU] * (L-1) -> LINEAR -> SIGMOID group.\n",
        "\n",
        "    Arguments:\n",
        "    AL -- probability vector, output of the forward propagation (L_model_forward())\n",
        "    Y -- true \"label\" vector (containing 0 if non-cat, 1 if cat)\n",
        "    caches -- list of caches:\n",
        "                - caches[l] for ReLU layers (from 0 to L-2)\n",
        "                - caches[L-1] for the sigmoid layer\n",
        "\n",
        "    Returns:\n",
        "    grads -- Dictionary containing gradients:\n",
        "             - grads[\"dA\" + str(l)]\n",
        "             - grads[\"dW\" + str(l)]\n",
        "             - grads[\"db\" + str(l)]\n",
        "    \"\"\"\n",
        "\n",
        "    grads = {}\n",
        "    L = len(caches)  # Number of layers\n",
        "    m = AL.shape[1]\n",
        "    Y = Y.reshape(AL.shape)  # Ensure Y has the same shape as AL\n",
        "\n",
        "    # Compute dAL (derivative of loss with respect to AL)\n",
        "    dAL = - (np.divide(Y, AL) - np.divide(1 - Y, 1 - AL))\n",
        "\n",
        "    # Backpropagation for the last layer (SIGMOID -> LINEAR)\n",
        "    current_cache = caches[-1]\n",
        "    linear_cache, activation_cache = current_cache  # Unpacking cache\n",
        "    dA_prev, dW, db = linear_backward(sigmoid_backward(dAL, activation_cache), linear_cache)\n",
        "\n",
        "    grads[\"dA\" + str(L)] = dA_prev\n",
        "    grads[\"dW\" + str(L)] = dW\n",
        "    grads[\"db\" + str(L)] = db\n",
        "\n",
        "    # Loop through layers in reverse order (ReLU -> LINEAR)\n",
        "    for l in reversed(range(L - 1)):\n",
        "        current_cache = caches[l]\n",
        "        linear_cache, activation_cache = current_cache  # Unpacking cache\n",
        "\n",
        "        # Using relu_backward instead of sigmoid_backward\n",
        "        dA_prev, dW, db = linear_backward(relu_backward(grads[\"dA\" + str(l + 2)], activation_cache), linear_cache)\n",
        "\n",
        "        grads[\"dA\" + str(l + 1)] = dA_prev\n",
        "        grads[\"dW\" + str(l + 1)] = dW\n",
        "        grads[\"db\" + str(l + 1)] = db\n",
        "\n",
        "    return grads\n"
      ],
      "metadata": {
        "id": "mgrkDbEYKpO_"
      },
      "execution_count": null,
      "outputs": []
    },
    {
      "cell_type": "code",
      "source": [
        "def update_parameters(parameters, grads, learning_rate):\n",
        "    \"\"\"\n",
        "    Update parameters using gradient descent\n",
        "\n",
        "    Arguments:\n",
        "    parameters -- python dictionary containing your parameters\n",
        "    grads -- python dictionary containing your gradients, output of L_model_backward\n",
        "    learning_rate -- learning rate of the gradient descent update rule\n",
        "\n",
        "    Returns:\n",
        "    parameters -- python dictionary containing your updated parameters\n",
        "    \"\"\"\n",
        "    L = len(parameters) // 2  # number of layers in the neural network\n",
        "\n",
        "    for l in range(L):\n",
        "        parameters[\"W\" + str(l + 1)] = parameters[\"W\" + str(l + 1)] - learning_rate * grads[\"dW\" + str(l + 1)]\n",
        "        parameters[\"b\" + str(l + 1)] = parameters[\"b\" + str(l + 1)] - learning_rate * grads[\"db\" + str(l + 1)]\n",
        "\n",
        "        # Print shapes for debugging\n",
        "        # print(f\"Layer {l+1} updated shapes:\")\n",
        "        # print(f\"W{l+1} shape: {parameters['W' + str(l + 1)].shape}\")\n",
        "        # print(f\"b{l+1} shape: {parameters['b' + str(l + 1)].shape}\")\n",
        "\n",
        "    return parameters"
      ],
      "metadata": {
        "id": "viTRsLO4K1TF"
      },
      "execution_count": null,
      "outputs": []
    },
    {
      "cell_type": "code",
      "source": [
        "def L_layer_model(X, Y, layers_dims, learning_rate=0.0075, num_iterations=3000, print_cost=False): #lr was 0.009\n",
        "    \"\"\"\n",
        "    Implements a L-layer neural network: [LINEAR->RELU]*(L-1)->LINEAR->SIGMOID.\n",
        "\n",
        "    Arguments:\n",
        "    X -- data, numpy array of shape (number of examples, num_px * num_px * 3)\n",
        "    Y -- true \"label\" vector (containing 0 if cat, 1 if non-cat), of shape (1, number of examples)\n",
        "    layers_dims -- list containing the input size and each layer size, of length (number of layers + 1).\n",
        "    learning_rate -- learning rate of the gradient descent update rule\n",
        "    num_iterations -- number of iterations of the optimization loop\n",
        "    print_cost -- if True, it prints the cost every 100 steps\n",
        "\n",
        "    Returns:\n",
        "    parameters -- parameters learnt by the model. They can then be used to predict.\n",
        "    \"\"\"\n",
        "\n",
        "    costs = []                         # keep track of cost\n",
        "\n",
        "    # Parameters initialization.\n",
        "    parameters = initialize_parameters_deep(layers_dims)\n",
        "\n",
        "    # Loop (gradient descent)\n",
        "    for i in range(0, num_iterations):\n",
        "\n",
        "        # Forward propagation: [LINEAR -> RELU]*(L-1) -> LINEAR -> SIGMOID.\n",
        "        AL, caches = L_model_forward(X, parameters)\n",
        "        cost = compute_cost(AL, Y)\n",
        "\n",
        "        # Backward propagation.\n",
        "        grads = L_model_backward(AL, Y, caches)\n",
        "\n",
        "        parameters = update_parameters(parameters, grads, learning_rate)\n",
        "\n",
        "        if print_cost and i % 100 == 0:\n",
        "            print (\"Cost after iteration %i: %f\" % (i, cost))\n",
        "        if print_cost and i % 100 == 0:\n",
        "            costs.append(cost)\n",
        "\n",
        "    plt.plot(np.squeeze(costs))\n",
        "    plt.ylabel('cost')\n",
        "    plt.xlabel('iterations (per tens)')\n",
        "    plt.title(\"Learning rate =\" + str(learning_rate))\n",
        "    plt.show()\n",
        "\n",
        "    return parameters"
      ],
      "metadata": {
        "id": "pVRaY_6rLLc2"
      },
      "execution_count": null,
      "outputs": []
    },
    {
      "cell_type": "code",
      "source": [
        "import os\n",
        "import numpy as np\n",
        "import matplotlib.pyplot as plt\n",
        "import h5py\n",
        "import scipy\n",
        "from PIL import Image\n",
        "from scipy import ndimage\n",
        "\n",
        "%matplotlib inline\n",
        "\n",
        "!kaggle datasets download -d izznfkhrlislm/carnoncar-dataset\n",
        "!unzip carnoncar-dataset.zip -d carnoncar-dataset"
      ],
      "metadata": {
        "colab": {
          "base_uri": "https://localhost:8080/"
        },
        "id": "cJLyyV41Lj2B",
        "outputId": "1451bf8c-65f0-4ead-ca09-1fbcf8eed92b"
      },
      "execution_count": null,
      "outputs": [
        {
          "output_type": "stream",
          "name": "stdout",
          "text": [
            "Dataset URL: https://www.kaggle.com/datasets/izznfkhrlislm/carnoncar-dataset\n",
            "License(s): unknown\n",
            "carnoncar-dataset.zip: Skipping, found more recently modified local copy (use --force to force download)\n",
            "Archive:  carnoncar-dataset.zip\n",
            "replace carnoncar-dataset/car_scaled/car_scaled/car_scaled_1.png? [y]es, [n]o, [A]ll, [N]one, [r]ename: N\n"
          ]
        }
      ]
    },
    {
      "cell_type": "code",
      "source": [
        "\n",
        "car_dir = \"carnoncar-dataset/car_scaled/car_scaled\"\n",
        "non_car_dir = \"carnoncar-dataset/non_car_scaled/non_car_scaled\"\n",
        "# print some images\n",
        "file_names = os.listdir(car_dir)\n",
        "img_path = os.path.join(car_dir, file_names[4])\n",
        "img = Image.open(img_path)\n",
        "plt.figure()\n",
        "plt.imshow(img)\n",
        "plt.title(f\"example car image\")\n",
        "plt.axis('off')\n",
        "plt.show()\n",
        "print(f\"image dimension: {img.size}\")\n",
        "file_names = os.listdir(non_car_dir)\n",
        "img_path = os.path.join(non_car_dir, file_names[0])\n",
        "img = Image.open(img_path)\n",
        "plt.figure()\n",
        "plt.imshow(img)\n",
        "plt.title(f\"example non-car image\")\n",
        "plt.axis('off')\n",
        "plt.show()\n"
      ],
      "metadata": {
        "colab": {
          "base_uri": "https://localhost:8080/",
          "height": 856
        },
        "id": "peBdja9jNXHJ",
        "outputId": "ff230528-6bc1-437f-f81a-957aaa312c06"
      },
      "execution_count": null,
      "outputs": [
        {
          "output_type": "display_data",
          "data": {
            "text/plain": [
              "<Figure size 640x480 with 1 Axes>"
            ],
            "image/png": "[encoded data removed]"
          },
          "metadata": {}
        },
        {
          "output_type": "stream",
          "name": "stdout",
          "text": [
            "image dimension: (72, 72)\n"
          ]
        },
        {
          "output_type": "display_data",
          "data": {
            "text/plain": [
              "<Figure size 640x480 with 1 Axes>"
            ],
            "image/png": "[encoded data removed]"
          },
          "metadata": {}
        }
      ]
    },
    {
      "cell_type": "code",
      "source": [
        "car_dir = \"carnoncar-dataset/car_scaled/car_scaled\"\n",
        "non_car_dir = \"carnoncar-dataset/non_car_scaled/non_car_scaled\"\n",
        "\n",
        "# Function to load images and labels\n",
        "def load_dataset(folder, label):\n",
        "    images = []\n",
        "    for filename in os.listdir(folder):\n",
        "        img_path = os.path.join(folder, filename)\n",
        "        img = Image.open(img_path)\n",
        "        img_array = np.array(img)\n",
        "        images.append(img_array)\n",
        "\n",
        "    labels = [label] * len(images)\n",
        "\n",
        "    return images, labels\n",
        "\n",
        "# Load car and non-car images\n",
        "car_images, car_labels = load_dataset(car_dir, 1)\n",
        "non_car_images, non_car_labels = load_dataset(non_car_dir, 0)\n",
        "\n",
        "# Combine and shuffle data\n",
        "X = np.array(car_images + non_car_images)\n",
        "Y = np.array(car_labels + non_car_labels)\n",
        "\n",
        "# Shuffle dataset\n",
        "m = X.shape[0]\n",
        "indices = np.random.permutation(m)\n",
        "X = X[indices]\n",
        "Y = Y[indices]\n",
        "\n",
        "# Split into train/test (80/20)\n",
        "split = int(m * 0.8)\n",
        "train_set_x_orig = X[:split]\n",
        "train_set_y = Y[:split].reshape(1, -1)  # Shape (1, m_train)\n",
        "test_set_x_orig = X[split:]\n",
        "test_set_y = Y[split:].reshape(1, -1)   # Shape (1, m_test)\n",
        "\n",
        "# Define classes\n",
        "classes = ['non-car', 'car']\n",
        "\n",
        "# Dataset statistics\n",
        "m_train = train_set_y.shape[1]\n",
        "m_test = test_set_y.shape[1]\n",
        "num_px = train_set_x_orig.shape[1]  # Assuming square images\n",
        "\n",
        "print(f\"Training Examples: {m_train}\")\n",
        "print(f\"Test Examples: {m_test}\")\n",
        "print(f\"Image Dimensions: {num_px}x{num_px}\")\n",
        "print(f\"Train Data Shape: {train_set_x_orig.shape}\")\n",
        "print(f\"Train Labels Shape: {train_set_y.shape}\")\n",
        "\n",
        "# Flatten and normalize images\n",
        "train_set_x_flatten = train_set_x_orig.reshape(train_set_x_orig.shape[0], -1).T\n",
        "test_set_x_flatten = test_set_x_orig.reshape(test_set_x_orig.shape[0], -1).T\n",
        "\n",
        "train_set_x = train_set_x_flatten / 255.0\n",
        "test_set_x = test_set_x_flatten / 255.0\n",
        "\n",
        "print(\"\\nAfter preprocessing:\")\n",
        "print(f\"Flattened Train Shape: {train_set_x.shape}\")\n",
        "print(f\"Flattened Test Shape: {test_set_x.shape}\")"
      ],
      "metadata": {
        "colab": {
          "base_uri": "https://localhost:8080/"
        },
        "id": "wldtwbsdNZj7",
        "outputId": "864a0457-b300-4ec0-d791-089f4708f2f6"
      },
      "execution_count": null,
      "outputs": [
        {
          "output_type": "stream",
          "name": "stdout",
          "text": [
            "Training Examples: 168\n",
            "Test Examples: 43\n",
            "Image Dimensions: 72x72\n",
            "Train Data Shape: (168, 72, 72, 4)\n",
            "Train Labels Shape: (1, 168)\n",
            "\n",
            "After preprocessing:\n",
            "Flattened Train Shape: (20736, 168)\n",
            "Flattened Test Shape: (20736, 43)\n"
          ]
        }
      ]
    },
    {
      "cell_type": "code",
      "source": [
        "# Define architecture\n",
        "layers_dims = [20736, 20, 7, 1]  # your input dimension is 20736\n",
        "\n",
        "# Train model\n",
        "parameters = L_layer_model(train_set_x, train_set_y,\n",
        "                         layers_dims,\n",
        "                         learning_rate=0.001,\n",
        "                         num_iterations=3000,\n",
        "                         print_cost=True)"
      ],
      "metadata": {
        "colab": {
          "base_uri": "https://localhost:8080/",
          "height": 993
        },
        "id": "dMVMDBkKUKNL",
        "outputId": "07a2a868-669c-4c20-ef91-2bddc82220b0"
      },
      "execution_count": null,
      "outputs": [
        {
          "output_type": "stream",
          "name": "stdout",
          "text": [
            "Cost after iteration 0: 0.778421\n",
            "Cost after iteration 100: 0.518267\n",
            "Cost after iteration 200: 0.434899\n",
            "Cost after iteration 300: 0.339246\n",
            "Cost after iteration 400: 0.276031\n",
            "Cost after iteration 500: 0.238244\n",
            "Cost after iteration 600: 0.212531\n",
            "Cost after iteration 700: 0.193837\n",
            "Cost after iteration 800: 0.179571\n",
            "Cost after iteration 900: 0.168062\n",
            "Cost after iteration 1000: 0.158370\n",
            "Cost after iteration 1100: 0.149913\n",
            "Cost after iteration 1200: 0.142382\n",
            "Cost after iteration 1300: 0.135603\n",
            "Cost after iteration 1400: 0.129392\n",
            "Cost after iteration 1500: 0.123647\n",
            "Cost after iteration 1600: 0.118245\n",
            "Cost after iteration 1700: 0.113145\n",
            "Cost after iteration 1800: 0.108328\n",
            "Cost after iteration 1900: 0.103753\n",
            "Cost after iteration 2000: 0.099445\n",
            "Cost after iteration 2100: 0.095350\n",
            "Cost after iteration 2200: 0.091460\n",
            "Cost after iteration 2300: 0.087790\n",
            "Cost after iteration 2400: 0.084312\n",
            "Cost after iteration 2500: 0.081022\n",
            "Cost after iteration 2600: 0.077921\n",
            "Cost after iteration 2700: 0.074979\n",
            "Cost after iteration 2800: 0.072175\n",
            "Cost after iteration 2900: 0.069505\n"
          ]
        },
        {
          "output_type": "display_data",
          "data": {
            "text/plain": [
              "<Figure size 640x480 with 1 Axes>"
            ],
            "image/png": "[encoded data removed]"
          },
          "metadata": {}
        }
      ]
    },
    {
      "cell_type": "code",
      "source": [
        "# accuracy\n",
        "def predict(X, parameters):\n",
        "    \"\"\"\n",
        "    Predict whether the label is 0 or 1 using learned parameters.\n",
        "\n",
        "    Arguments:\n",
        "    X -- input data of shape (n_x, number of examples)\n",
        "    parameters -- trained parameters of the model\n",
        "\n",
        "    Returns:\n",
        "    predictions -- vector of predictions of shape (1, number of examples)\n",
        "    \"\"\"\n",
        "    # Forward propagation\n",
        "    AL, _ = L_model_forward(X, parameters)\n",
        "\n",
        "    # Convert probabilities to binary predictions\n",
        "    predictions = (AL > 0.5).astype(int)\n",
        "\n",
        "    return predictions\n",
        "\n",
        "def compute_accuracy(predictions, Y):\n",
        "    \"\"\"\n",
        "    Calculate accuracy of predictions compared to true labels.\n",
        "\n",
        "    Arguments:\n",
        "    predictions -- binary predictions (0/1)\n",
        "    Y -- true labels\n",
        "\n",
        "    Returns:\n",
        "    accuracy -- accuracy as a percentage\n",
        "    \"\"\"\n",
        "    accuracy = np.mean(predictions == Y) * 100\n",
        "    return accuracy\n",
        "\n",
        "# Make predictions on train and test sets\n",
        "train_predictions = predict(train_set_x, parameters)\n",
        "test_predictions = predict(test_set_x, parameters)\n",
        "\n",
        "# Calculate accuracies\n",
        "train_accuracy = compute_accuracy(train_predictions, train_set_y)\n",
        "test_accuracy = compute_accuracy(test_predictions, test_set_y)\n",
        "\n",
        "# Print results with detailed metrics\n",
        "print(\"\\nModel Evaluation Metrics:\")\n",
        "print(\"-\" * 30)\n",
        "print(f\"Training Accuracy: {train_accuracy:.2f}%\")\n",
        "print(f\"Test Accuracy: {test_accuracy:.2f}%\")\n",
        "\n",
        "# Calculate confusion matrix for test set\n",
        "test_cm = {\n",
        "    'true_positive': np.sum((test_predictions == 1) & (test_set_y == 1)),\n",
        "    'true_negative': np.sum((test_predictions == 0) & (test_set_y == 0)),\n",
        "    'false_positive': np.sum((test_predictions == 1) & (test_set_y == 0)),\n",
        "    'false_negative': np.sum((test_predictions == 0) & (test_set_y == 1))\n",
        "}\n",
        "\n",
        "# Print detailed metrics\n",
        "print(\"\\nDetailed Test Set Metrics:\")\n",
        "print(\"-\" * 30)\n",
        "print(f\"True Positives: {test_cm['true_positive']}\")\n",
        "print(f\"True Negatives: {test_cm['true_negative']}\")\n",
        "print(f\"False Positives: {test_cm['false_positive']}\")\n",
        "print(f\"False Negatives: {test_cm['false_negative']}\")\n",
        "\n",
        "# Calculate precision, recall, and F1 score\n",
        "precision = test_cm['true_positive'] / (test_cm['true_positive'] + test_cm['false_positive'])\n",
        "recall = test_cm['true_positive'] / (test_cm['true_positive'] + test_cm['false_negative'])\n",
        "f1_score = 2 * (precision * recall) / (precision + recall)\n",
        "\n",
        "print(f\"\\nPrecision: {precision:.2f}\")\n",
        "print(f\"Recall: {recall:.2f}\")\n",
        "print(f\"F1 Score: {f1_score:.2f}\")\n",
        "\n",
        "\n"
      ],
      "metadata": {
        "colab": {
          "base_uri": "https://localhost:8080/"
        },
        "id": "mnJ9zPB-U0e5",
        "outputId": "d4aabe6d-0e17-46b1-9600-9634af7ec0a6"
      },
      "execution_count": null,
      "outputs": [
        {
          "output_type": "stream",
          "name": "stdout",
          "text": [
            "\n",
            "Model Evaluation Metrics:\n",
            "------------------------------\n",
            "Training Accuracy: 98.81%\n",
            "Test Accuracy: 95.35%\n",
            "\n",
            "Detailed Test Set Metrics:\n",
            "------------------------------\n",
            "True Positives: 19\n",
            "True Negatives: 22\n",
            "False Positives: 0\n",
            "False Negatives: 2\n",
            "\n",
            "Precision: 1.00\n",
            "Recall: 0.90\n",
            "F1 Score: 0.95\n"
          ]
        }
      ]
    },
    {
      "cell_type": "code",
      "source": [
        "from ctypes import sizeof\n",
        "import pickle\n",
        "def sigmoid(Z):\n",
        "    \"\"\"\n",
        "    Compute sigmoid of Z\n",
        "    \"\"\"\n",
        "    return 1/(1 + np.exp(-Z))\n",
        "\n",
        "def save_parameters(parameters, filename='parameters.pkl'):\n",
        "    \"\"\"\n",
        "    Save the model parameters in the correct format\n",
        "    \"\"\"\n",
        "    # Save all layers instead of just the first one\n",
        "    p = {\n",
        "        \"parameters\": parameters  # Save the complete parameters dictionary\n",
        "    }\n",
        "\n",
        "    with open(filename, 'wb') as f:\n",
        "        pickle.dump(p, f)\n",
        "    print(f\"Parameters saved to {filename}\")\n",
        "\n",
        "def predict_from_png(image_path, p):\n",
        "    \"\"\"\n",
        "    Predict whether an image contains a car using the full neural network\n",
        "\n",
        "    Arguments:\n",
        "    image_path -- path to the image\n",
        "    p -- dictionary containing the neural network parameters\n",
        "    \"\"\"\n",
        "    try:\n",
        "        # Load and preprocess image\n",
        "        img = Image.open(image_path)\n",
        "        img = img.resize((72, 72))  # Match the original training image size\n",
        "        img_array = np.array(img)\n",
        "        print(len(img_array))\n",
        "\n",
        "\n",
        "        # Normalize and reshape\n",
        "        img_array = img_array / 255.0\n",
        "        img_flatten = img_array.reshape(-1, 1)  # Flatten to (n_x, 1)\n",
        "\n",
        "        # Get the full set of parameters\n",
        "        parameters = p[\"parameters\"]\n",
        "\n",
        "        # Forward propagation through the network\n",
        "        A = img_flatten\n",
        "        L = len(parameters) // 2\n",
        "\n",
        "        # Use the same forward propagation as in training\n",
        "        for l in range(1, L):\n",
        "            W = parameters[f'W{l}']\n",
        "            b = parameters[f'b{l}']\n",
        "            Z = np.dot(W, A) + b\n",
        "            A = np.maximum(0, Z)  # ReLU activation\n",
        "\n",
        "        # Final layer with sigmoid\n",
        "        W = parameters[f'W{L}']\n",
        "        b = parameters[f'b{L}']\n",
        "        Z = np.dot(W, A) + b\n",
        "        Y_prediction = sigmoid(Z)\n",
        "\n",
        "        # Visualization\n",
        "        plt.figure(figsize=(10, 6))\n",
        "        plt.imshow(img)\n",
        "        plt.axis('off')\n",
        "\n",
        "        isCar = Y_prediction > 0.5\n",
        "        Pred_Probability = Y_prediction[0][0] * 100\n",
        "\n",
        "        prediction_text = \"Prediction: Car\" if isCar else \"Prediction: Not a Car\"\n",
        "        probability_text = f\"Probability: {Pred_Probability:.2f}%\"\n",
        "\n",
        "        plt.text(10, 20, prediction_text, color='white',\n",
        "                fontsize=12, fontweight='bold',\n",
        "                bbox=dict(facecolor='green' if isCar else 'red', alpha=0.7))\n",
        "        plt.text(10, 50, probability_text, color='white',\n",
        "                fontsize=10,\n",
        "                bbox=dict(facecolor='black', alpha=0.7))\n",
        "\n",
        "        plt.show()\n",
        "\n",
        "    except Exception as e:\n",
        "        print(f\"Error processing image: {str(e)}\")\n",
        "        raise"
      ],
      "metadata": {
        "id": "gIyu1E64XGiD"
      },
      "execution_count": null,
      "outputs": []
    },
    {
      "cell_type": "code",
      "source": [
        "# First save the parameters\n",
        "save_parameters(parameters)\n",
        "\n",
        "# Load saved parameters\n",
        "with open('parameters.pkl', 'rb') as f:\n",
        "    loaded_parameters = pickle.load(f)\n"
      ],
      "metadata": {
        "colab": {
          "base_uri": "https://localhost:8080/"
        },
        "id": "GrZNuPpFXXJo",
        "outputId": "08fe925e-e080-410b-a367-69362416f245"
      },
      "execution_count": null,
      "outputs": [
        {
          "output_type": "stream",
          "name": "stdout",
          "text": [
            "Parameters saved to parameters.pkl\n"
          ]
        }
      ]
    },
    {
      "cell_type": "code",
      "source": [
        "# Make predictions\n",
        "predict_from_png(\"/content/car.png\", loaded_parameters)"
      ],
      "metadata": {
        "colab": {
          "base_uri": "https://localhost:8080/",
          "height": 516
        },
        "id": "0nmKswKgXefm",
        "outputId": "62f07b43-e662-4f6f-d406-934fa3ab718f"
      },
      "execution_count": null,
      "outputs": [
        {
          "output_type": "stream",
          "name": "stdout",
          "text": [
            "72\n"
          ]
        },
        {
          "output_type": "display_data",
          "data": {
            "text/plain": [
              "<Figure size 1000x600 with 1 Axes>"
            ],
            "image/png": "[encoded data removed]"
          },
          "metadata": {}
        }
      ]
    },
    {
      "cell_type": "code",
      "source": [],
      "metadata": {
        "id": "DEwdSZA9bWjf"
      },
      "execution_count": null,
      "outputs": []
    }
  ]
}